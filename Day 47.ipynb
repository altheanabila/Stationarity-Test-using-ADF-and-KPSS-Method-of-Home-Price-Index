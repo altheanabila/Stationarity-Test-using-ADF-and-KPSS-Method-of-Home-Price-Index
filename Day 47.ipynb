{
 "cells": [
  {
   "cell_type": "code",
   "execution_count": 8,
   "id": "f2ab3914",
   "metadata": {},
   "outputs": [],
   "source": [
    "import pandas as pd\n",
    "import quandl"
   ]
  },
  {
   "cell_type": "code",
   "execution_count": 39,
   "id": "e258a7c7",
   "metadata": {},
   "outputs": [],
   "source": [
    "QUANDL_KEY = 'VMuJREsX2yY4_McfSNj9'\n",
    "quandl.ApiConfig.api_key = QUANDL_KEY\n",
    "\n",
    "\n",
    "df = quandl.get(dataset='YALE/NHPI',\n",
    "               start_date = '2010-01-01',\n",
    "               end_date = '2019-12-31')\n",
    "\n",
    "df.rename(columns={'Index': 'price'}, inplace = True)\n",
    "df = df.resample('M').last()"
   ]
  },
  {
   "cell_type": "markdown",
   "id": "745601a3",
   "metadata": {},
   "source": [
    "1.import the libraries"
   ]
  },
  {
   "cell_type": "code",
   "execution_count": 40,
   "id": "3a8b5bb0",
   "metadata": {},
   "outputs": [],
   "source": [
    "import pandas as pd\n",
    "from statsmodels.graphics.tsaplots import plot_acf, plot_pacf\n",
    "from statsmodels.tsa.stattools import adfuller, kpss"
   ]
  },
  {
   "cell_type": "markdown",
   "id": "44a58464",
   "metadata": {},
   "source": [
    "2. Define a function for running the ADF test"
   ]
  },
  {
   "cell_type": "code",
   "execution_count": 44,
   "id": "cccc43a1",
   "metadata": {},
   "outputs": [],
   "source": [
    "def adf_test(x):\n",
    "    indices = ['Test Statistic', 'p-value'\n",
    "              '# of Lags Used', '# of Observation Used']\n",
    "    adf_test = adfuller(x, autolag='AIC')\n",
    "    results = pd.Series(adf_test[0:3], index = indices)\n",
    "    \n",
    "    for key, value in adf_test[4].items():\n",
    "        results[f'Critical Value ({key})'] = value\n",
    "        \n",
    "    return results"
   ]
  },
  {
   "cell_type": "code",
   "execution_count": 45,
   "id": "1f9e05d1",
   "metadata": {},
   "outputs": [
    {
     "data": {
      "text/plain": [
       "Test Statistic            0.136814\n",
       "p-value# of Lags Used     0.968487\n",
       "# of Observation Used    13.000000\n",
       "Critical Value (1%)      -3.493602\n",
       "Critical Value (5%)      -2.889217\n",
       "Critical Value (10%)     -2.581533\n",
       "dtype: float64"
      ]
     },
     "execution_count": 45,
     "metadata": {},
     "output_type": "execute_result"
    }
   ],
   "source": [
    "adf_test(df.price)"
   ]
  },
  {
   "cell_type": "markdown",
   "id": "41c1c5a1",
   "metadata": {},
   "source": [
    "3. Define a function for running the KPSS test:"
   ]
  },
  {
   "cell_type": "code",
   "execution_count": 47,
   "id": "624a8669",
   "metadata": {},
   "outputs": [],
   "source": [
    "def kpss_test(x, h0_type='c'):\n",
    "    indices = ['Test Statistic', 'p-value', '# of lags']\n",
    "    \n",
    "    kpss_test = kpss(x, regression=h0_type)\n",
    "    results = pd.Series(kpss_test[0:3], index=indices)\n",
    "    \n",
    "    for key, value in kpss_test[3].items():\n",
    "        results[f'Critical Value ({key})'] = value\n",
    "        \n",
    "    return results"
   ]
  },
  {
   "cell_type": "code",
   "execution_count": 48,
   "id": "8c04d485",
   "metadata": {},
   "outputs": [
    {
     "name": "stderr",
     "output_type": "stream",
     "text": [
      "C:\\Users\\Admin\\anaconda3\\lib\\site-packages\\statsmodels\\tsa\\stattools.py:1875: FutureWarning: The behavior of using nlags=None will change in release 0.13.Currently nlags=None is the same as nlags=\"legacy\", and so a sample-size lag length is used. After the next release, the default will change to be the same as nlags=\"auto\" which uses an automatic lag length selection method. To silence this warning, either use \"auto\" or \"legacy\"\n",
      "  warnings.warn(msg, FutureWarning)\n",
      "C:\\Users\\Admin\\anaconda3\\lib\\site-packages\\statsmodels\\tsa\\stattools.py:1906: InterpolationWarning: The test statistic is outside of the range of p-values available in the\n",
      "look-up table. The actual p-value is smaller than the p-value returned.\n",
      "\n",
      "  warnings.warn(\n"
     ]
    },
    {
     "data": {
      "text/plain": [
       "Test Statistic            0.928901\n",
       "p-value                   0.010000\n",
       "# of lags                13.000000\n",
       "Critical Value (10%)      0.347000\n",
       "Critical Value (5%)       0.463000\n",
       "Critical Value (2.5%)     0.574000\n",
       "Critical Value (1%)       0.739000\n",
       "dtype: float64"
      ]
     },
     "execution_count": 48,
     "metadata": {},
     "output_type": "execute_result"
    }
   ],
   "source": [
    "kpss_test(df.price)"
   ]
  },
  {
   "cell_type": "code",
   "execution_count": 49,
   "id": "b0cf5ea2",
   "metadata": {},
   "outputs": [
    {
     "data": {
      "image/png": "[encoded data removed]",
      "text/plain": [
       "<Figure size 432x288 with 2 Axes>"
      ]
     },
     "metadata": {
      "needs_background": "light"
     },
     "output_type": "display_data"
    }
   ],
   "source": [
    "import matplotlib.pyplot as plt\n",
    "\n",
    "N_LAGS = 40\n",
    "SIGNIFICANCE_LEVEL = 0.05\n",
    "\n",
    "fig, ax= plt.subplots(2,1)\n",
    "plot_acf(df.price, ax=ax[0], lags=N_LAGS,\n",
    "        alpha=SIGNIFICANCE_LEVEL)\n",
    "plot_pacf(df.price, ax = ax[1], lags= N_LAGS,\n",
    "         alpha=SIGNIFICANCE_LEVEL)\n",
    "\n",
    "plt.tight_layout()\n",
    "plt.show()"
   ]
  },
  {
   "cell_type": "code",
   "execution_count": null,
   "id": "4260842c",
   "metadata": {},
   "outputs": [],
   "source": []
  }
 ],
 "metadata": {
  "kernelspec": {
   "display_name": "Python 3",
   "language": "python",
   "name": "python3"
  },
  "language_info": {
   "codemirror_mode": {
    "name": "ipython",
    "version": 3
   },
   "file_extension": ".py",
   "mimetype": "text/x-python",
   "name": "python",
   "nbconvert_exporter": "python",
   "pygments_lexer": "ipython3",
   "version": "3.8.8"
  }
 },
 "nbformat": 4,
 "nbformat_minor": 5
}
